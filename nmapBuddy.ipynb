{
 "cells": [
  {
   "cell_type": "markdown",
   "metadata": {},
   "source": [
    "# NmapBuddy - Automated Port & Vulnerability Scanner\n"
   ]
  },
  {
   "cell_type": "markdown",
   "metadata": {},
   "source": [
    "## 📚 Table of Contents\n",
    "1. [Overview](#overview)\n",
    "2. [Setup](#setup)\n",
    "3. [Timestamp + Logging](#timestamp)\n",
    "4. [Target Selection](#target)\n",
    "5. [Nmap Scan Execution](#scan)\n",
    "6. [Output & Results](#results)\n",
    "7. [Future Features](#future)\n"
   ]
  },
  {
   "cell_type": "markdown",
   "metadata": {},
   "source": [
    "# NmapBuddy - Automated Port and Vulnerability Scanner\n",
    "---\n",
    "**Created by:** Tamieka Horne  \n",
    "**Date Started:** 4/27/2025  \n",
    "\n",
    "This project automates port scanning and basic vulnerability detection using Nmap and Python.  \n",
    "It is designed to streamline manual security assessments by allowing users to quickly identify open ports and potential vulnerabilities on a target system or network.\n"
   ]
  },
  {
   "cell_type": "markdown",
   "metadata": {},
   "source": [
    "## 🛠️ Tools & Technologies\n",
    "\n",
    "This project was built using:\n",
    "- **Python 3.x**\n",
    "- **Nmap** – for performing port and vulnerability scans\n",
    "- **subprocess module** – to execute shell commands from within Python\n",
    "- **datetime module** – for timestamping logs\n",
    "- **Jupyter Notebook** – for interactive scripting, documentation, and analysis\n",
    "\n",
    "These tools were chosen for their accessibility, effectiveness, and ability to support real-time iteration and automation in security assessments.\n"
   ]
  },
  {
   "cell_type": "code",
   "execution_count": 1,
   "metadata": {},
   "outputs": [
    {
     "name": "stdout",
     "output_type": "stream",
     "text": [
      "Collecting python-nmap\n",
      "  Downloading python-nmap-0.7.1.tar.gz (44 kB)\n",
      "  Preparing metadata (setup.py) ... \u001b[?25ldone\n",
      "\u001b[?25hBuilding wheels for collected packages: python-nmap\n",
      "  Building wheel for python-nmap (setup.py) ... \u001b[?25ldone\n",
      "\u001b[?25h  Created wheel for python-nmap: filename=python_nmap-0.7.1-py2.py3-none-any.whl size=20633 sha256=1e08ee243e0da8594193da955d8c4d1f9dacd39645ea8f9fe009505fe80a0fcd\n",
      "  Stored in directory: /Users/tamiekahorne/Library/Caches/pip/wheels/06/fc/d4/0957e1d9942e696188208772ea0abf909fe6eb3d9dff6e5a9e\n",
      "Successfully built python-nmap\n",
      "Installing collected packages: python-nmap\n",
      "Successfully installed python-nmap-0.7.1\n",
      "Note: you may need to restart the kernel to use updated packages.\n",
      "Scanning scanme.nmap.org for ports 20-100...\n",
      "\n",
      "Host: 45.33.32.156 (scanme.nmap.org)\n",
      "State: up\n",
      "\n",
      "Protocol: tcp\n",
      "Port: 22\tState: open\n",
      "Port: 25\tState: filtered\n",
      "Port: 53\tState: open\n",
      "Port: 80\tState: open\n"
     ]
    }
   ],
   "source": [
    "# Install the python-nmap package\n",
    "%pip install python-nmap\n",
    "\n",
    "import nmap\n",
    "\n",
    "# Initialize the scanner\n",
    "scanner = nmap.PortScanner()\n",
    "\n",
    "# Define target and ports\n",
    "target = 'scanme.nmap.org'\n",
    "ports = '20-100'\n",
    "\n",
    "# Run a basic scan\n",
    "print(f\"Scanning {target} for ports {ports}...\")\n",
    "\n",
    "scanner.scan(target, ports)\n",
    "\n",
    "# Display the scan results\n",
    "for host in scanner.all_hosts():\n",
    "    print(f\"\\nHost: {host} ({scanner[host].hostname()})\")\n",
    "    print(f\"State: {scanner[host].state()}\")\n",
    "\n",
    "    for protocol in scanner[host].all_protocols():\n",
    "        print(f\"\\nProtocol: {protocol}\")\n",
    "        ports = scanner[host][protocol].keys()\n",
    "        for port in ports:\n",
    "            print(f\"Port: {port}\\tState: {scanner[host][protocol][port]['state']}\")\n"
   ]
  },
  {
   "cell_type": "markdown",
   "metadata": {},
   "source": [
    "## Basic Nmap Scan\n",
    "This cell runs a simple Nmap port scan on `scanme.nmap.org` from ports 20 to 100.\n",
    "It prints the open ports and the status of the target host.\n"
   ]
  },
  {
   "cell_type": "code",
   "execution_count": 12,
   "metadata": {},
   "outputs": [
    {
     "name": "stdout",
     "output_type": "stream",
     "text": [
      "===== nmapBuddy (Multi-Target Edition) =====\n",
      "\n",
      "Scanning scanme.nmap.org for ports 20-100...\n",
      "\n",
      "Choose output format for scanme.nmap.org:\n",
      "1. Save as text\n",
      "2. Save as JSON\n",
      "Scan results saved to scanme_nmap_org_scan.json\n",
      "\n",
      "Scanning 127.0.0.1 for ports 20-100...\n",
      "\n",
      "Choose output format for 127.0.0.1:\n",
      "1. Save as text\n",
      "2. Save as JSON\n",
      "Scan results saved to 127_0_0_1_scan.json\n"
     ]
    }
   ],
   "source": [
    "import nmap\n",
    "import json\n",
    "from datetime import datetime\n",
    "from colorama import Fore, Style, init\n",
    "\n",
    "init(autoreset=True)\n",
    "\n",
    "def log_scan(target, format_type):\n",
    "    with open(\"scan_log.txt\", \"a\") as log:\n",
    "        timestamp = datetime.now().strftime(\"%Y-%m-%d %H:%M:%S\")\n",
    "        log.write(f\"[{timestamp}] Scanned {target} | Format: {format_type}\\n\")\n",
    "\n",
    "def save_as_text(scan_data, host_ip, original_target):\n",
    "    filename = f\"{original_target.replace('.', '_')}_scan.txt\"\n",
    "    with open(filename, \"w\") as f:\n",
    "        f.write(f\"Host: {host_ip} ({original_target})\\n\")\n",
    "        f.write(f\"State: {scan_data['scan'][host_ip]['status']['state']}\\n\\n\")\n",
    "        f.write(\"Protocol: tcp\\n\")\n",
    "        for port, details in scan_data['scan'][host_ip]['tcp'].items():\n",
    "            f.write(f\"Port: {port}\\tState: {details['state']}\\n\")\n",
    "    print(Fore.GREEN + f\"Scan results saved to {filename}\")\n",
    "    log_scan(original_target, \"Text\")\n",
    "\n",
    "def save_as_json(scan_data, host_ip, original_target):\n",
    "    filename = f\"{original_target.replace('.', '_')}_scan.json\"\n",
    "    with open(filename, \"w\") as f:\n",
    "        json.dump({\"scan\": {host_ip: scan_data[host_ip]}}, f, indent=2)\n",
    "    print(Fore.GREEN + f\"Scan results saved to {filename}\")\n",
    "    log_scan(original_target, \"JSON\")\n",
    "\n",
    "\n",
    "def run_scan(target):\n",
    "    print(Fore.CYAN + f\"\\nScanning {target} for ports 20-100...\")\n",
    "    nm = nmap.PortScanner()\n",
    "    try:\n",
    "        nm.scan(hosts=target, arguments='-p 20-100 -sV')\n",
    "        scan_data = nm.all_hosts()\n",
    "\n",
    "        if not scan_data:\n",
    "            print(Fore.RED + f\"No hosts found for {target}.\")\n",
    "            return None, None\n",
    "\n",
    "        resolved_ip = scan_data[0]  # like \"45.33.32.156\"\n",
    "        return nm, resolved_ip\n",
    "\n",
    "    except Exception as e:\n",
    "        print(Fore.RED + f\"Scan error for {target}: {e}\")\n",
    "        return None, None\n",
    "\n",
    "def menu():\n",
    "    print(Style.BRIGHT + \"===== nmapBuddy (Multi-Target Edition) =====\")\n",
    "    targets_input = input(Fore.BLUE + \"Enter target(s), separated by commas: \").strip()\n",
    "    raw_targets = [t.strip() for t in targets_input.split(\",\") if t.strip()]\n",
    "\n",
    "    if not raw_targets:\n",
    "        print(Fore.RED + \"No valid targets entered. Exiting.\")\n",
    "        return\n",
    "\n",
    "    for raw_target in raw_targets:\n",
    "        if raw_target.isdigit():\n",
    "            print(Fore.RED + f\"Skipping invalid target: {raw_target}\")\n",
    "            continue\n",
    "\n",
    "        scanner, host_ip = run_scan(raw_target)\n",
    "        if not scanner or not host_ip:\n",
    "            continue\n",
    "\n",
    "        print(Fore.YELLOW + f\"\\nChoose output format for {raw_target}:\")\n",
    "        print(Fore.BLUE + \"1. Save as text\")\n",
    "        print(Fore.BLUE + \"2. Save as JSON\")\n",
    "\n",
    "        choice = input(Fore.BLUE + \"Enter your choice (1 or 2): \").strip()\n",
    "\n",
    "        if choice == \"1\":\n",
    "            save_as_text(scanner, host_ip, raw_target)\n",
    "        elif choice == \"2\":\n",
    "            save_as_json(scanner, host_ip, raw_target)\n",
    "        else:\n",
    "            print(Fore.RED + \"Invalid choice. Skipping output.\\n\")\n",
    "\n",
    "menu()\n"
   ]
  },
  {
   "cell_type": "code",
   "execution_count": 13,
   "metadata": {},
   "outputs": [],
   "source": [
    "import os\n",
    "\n",
    "# Create output folders\n",
    "os.makedirs(\"output/json\", exist_ok=True)\n",
    "os.makedirs(\"output/txt\", exist_ok=True)\n",
    "os.makedirs(\"images\", exist_ok=True)\n"
   ]
  },
  {
   "cell_type": "markdown",
   "metadata": {},
   "source": []
  }
 ],
 "metadata": {
  "kernelspec": {
   "display_name": "base",
   "language": "python",
   "name": "python3"
  },
  "language_info": {
   "codemirror_mode": {
    "name": "ipython",
    "version": 3
   },
   "file_extension": ".py",
   "mimetype": "text/x-python",
   "name": "python",
   "nbconvert_exporter": "python",
   "pygments_lexer": "ipython3",
   "version": "3.12.7"
  }
 },
 "nbformat": 4,
 "nbformat_minor": 2
}
