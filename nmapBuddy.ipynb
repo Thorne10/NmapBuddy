{
 "cells": [
  {
   "cell_type": "markdown",
   "metadata": {},
   "source": [
    "# NmapBuddy - Automated Port & Vulnerability Scanner\n"
   ]
  },
  {
   "cell_type": "markdown",
   "metadata": {},
   "source": [
    "## 📚 Table of Contents\n",
    "1. [Overview](#overview)\n",
    "2. [Setup](#setup)\n",
    "3. [Timestamp + Logging](#timestamp)\n",
    "4. [Target Selection](#target)\n",
    "5. [Nmap Scan Execution](#scan)\n",
    "6. [Output & Results](#results)\n",
    "7. [Future Features](#future)\n"
   ]
  },
  {
   "cell_type": "markdown",
   "metadata": {},
   "source": [
    "# NmapBuddy - Automated Port and Vulnerability Scanner\n",
    "---\n",
    "**Created by:** Tamieka Horne  \n",
    "**Date Started:** 4/27/2025  \n",
    "\n",
    "This project automates port scanning and basic vulnerability detection using Nmap and Python.  \n",
    "It is designed to streamline manual security assessments by allowing users to quickly identify open ports and potential vulnerabilities on a target system or network.\n"
   ]
  },
  {
   "cell_type": "markdown",
   "metadata": {},
   "source": [
    "## 🛠️ Tools & Technologies\n",
    "\n",
    "This project was built using:\n",
    "- **Python 3.x**\n",
    "- **Nmap** – for performing port and vulnerability scans\n",
    "- **subprocess module** – to execute shell commands from within Python\n",
    "- **datetime module** – for timestamping logs\n",
    "- **Jupyter Notebook** – for interactive scripting, documentation, and analysis\n",
    "\n",
    "These tools were chosen for their accessibility, effectiveness, and ability to support real-time iteration and automation in security assessments.\n"
   ]
  },
  {
   "cell_type": "markdown",
   "metadata": {},
   "source": [
    "## 🔎 Project Summary\n",
    "\n",
    "NmapBuddy automates the process of network scanning using Nmap and Python. Built in Jupyter Notebook, it helps identify open ports and basic vulnerabilities across one or more targets. Results can be saved in `.txt` or `.json` format and include logging functionality.\n",
    "\n",
    "This project was developed to reinforce skills in automation, network reconnaissance, and Python scripting while streamlining repetitive manual scanning tasks.\n"
   ]
  },
  {
   "cell_type": "code",
   "execution_count": 21,
   "metadata": {},
   "outputs": [
    {
     "name": "stdout",
     "output_type": "stream",
     "text": [
      "Requirement already satisfied: python-nmap in /opt/anaconda3/lib/python3.12/site-packages (0.7.1)\n",
      "Note: you may need to restart the kernel to use updated packages.\n",
      "Scanning scanme.nmap.org for ports 20-100...\n",
      "\n",
      "Host: 45.33.32.156 (scanme.nmap.org)\n",
      "State: up\n",
      "\n",
      "Protocol: tcp\n",
      "Port: 22\tState: open\n",
      "Port: 25\tState: filtered\n",
      "Port: 53\tState: open\n",
      "Port: 80\tState: open\n"
     ]
    }
   ],
   "source": [
    "# Install the python-nmap package\n",
    "%pip install python-nmap\n",
    "\n",
    "import nmap\n",
    "\n",
    "# Initialize the scanner\n",
    "scanner = nmap.PortScanner()\n",
    "\n",
    "# Define target and ports\n",
    "target = 'scanme.nmap.org'\n",
    "ports = '20-100'\n",
    "\n",
    "# Run a basic scan\n",
    "print(f\"Scanning {target} for ports {ports}...\")\n",
    "\n",
    "scanner.scan(target, ports)\n",
    "\n",
    "# Display the scan results\n",
    "for host in scanner.all_hosts():\n",
    "    print(f\"\\nHost: {host} ({scanner[host].hostname()})\")\n",
    "    print(f\"State: {scanner[host].state()}\")\n",
    "\n",
    "    for protocol in scanner[host].all_protocols():\n",
    "        print(f\"\\nProtocol: {protocol}\")\n",
    "        ports = scanner[host][protocol].keys()\n",
    "        for port in ports:\n",
    "            print(f\"Port: {port}\\tState: {scanner[host][protocol][port]['state']}\")\n"
   ]
  },
  {
   "cell_type": "markdown",
   "metadata": {},
   "source": [
    "## Basic Nmap Scan\n",
    "This cell runs a simple Nmap port scan on `scanme.nmap.org` from ports 20 to 100.\n",
    "It prints the open ports and the status of the target host.\n"
   ]
  },
  {
   "cell_type": "code",
   "execution_count": 13,
   "metadata": {},
   "outputs": [],
   "source": [
    "import os\n",
    "\n",
    "# Create output folders\n",
    "os.makedirs(\"output/json\", exist_ok=True)\n",
    "os.makedirs(\"output/txt\", exist_ok=True)\n",
    "os.makedirs(\"images\", exist_ok=True)\n"
   ]
  },
  {
   "cell_type": "markdown",
   "metadata": {},
   "source": []
  },
  {
   "cell_type": "code",
   "execution_count": 20,
   "metadata": {},
   "outputs": [
    {
     "name": "stdout",
     "output_type": "stream",
     "text": [
      "===== nmapBuddy (Back to Basics) =====\n",
      "\n",
      "\n",
      "Scanning scanme.nmap.org for ports 20-100...\n",
      "\n",
      "Choose output format for scanme.nmap.org:\n",
      "1. Save as text\n",
      "2. Save as JSON\n",
      "Saved to output/json/scanme_nmap_org_scan.json\n",
      "\n",
      "Scanning 127.0.0.1 for ports 20-100...\n",
      "\n",
      "Choose output format for 127.0.0.1:\n",
      "1. Save as text\n",
      "2. Save as JSON\n",
      "Saved to output/json/127_0_0_1_scan.json\n"
     ]
    }
   ],
   "source": [
    "import os\n",
    "import json\n",
    "from datetime import datetime\n",
    "from colorama import Fore, Style, init\n",
    "import nmap\n",
    "\n",
    "init(autoreset=True)\n",
    "\n",
    "# Create folders\n",
    "os.makedirs(\"output/json\", exist_ok=True)\n",
    "os.makedirs(\"output/txt\", exist_ok=True)\n",
    "os.makedirs(\"images\", exist_ok=True)\n",
    "\n",
    "def save_as_text(scanner, host_key, original_target):\n",
    "    file_path = f\"output/txt/{original_target.replace('.', '_')}_scan.txt\"\n",
    "    with open(file_path, \"w\") as f:\n",
    "        f.write(str(scanner[host_key]))\n",
    "    print(Fore.GREEN + f\"Saved to {file_path}\")\n",
    "\n",
    "def save_as_json(scanner, host_key, original_target):\n",
    "    file_path = f\"output/json/{original_target.replace('.', '_')}_scan.json\"\n",
    "    with open(file_path, \"w\") as f:\n",
    "        json.dump(scanner[host_key], f, indent=2)\n",
    "    print(Fore.GREEN + f\"Saved to {file_path}\")\n",
    "\n",
    "def log_scan(target, fmt):\n",
    "    with open(\"scan_log.txt\", \"a\") as log:\n",
    "        log.write(f\"{datetime.now()} | {target} | {fmt.upper()} format\\n\")\n",
    "\n",
    "def run_scan(target):\n",
    "    print(Fore.CYAN + f\"\\nScanning {target} for ports 20-100...\")\n",
    "    nm = nmap.PortScanner()\n",
    "    try:\n",
    "        nm.scan(hosts=target, arguments=\"-p 20-100\")\n",
    "        return nm\n",
    "    except Exception as e:\n",
    "        print(Fore.RED + f\"Scan error for {target}: {e}\")\n",
    "        return None\n",
    "\n",
    "def menu():\n",
    "    print(Style.BRIGHT + Fore.YELLOW + \"===== nmapBuddy (Back to Basics) =====\\n\")\n",
    "    raw_targets = input(\"Enter targets separated by commas (e.g., scanme.nmap.org,127.0.0.1): \").split(\",\")\n",
    "\n",
    "    for raw in raw_targets:\n",
    "        target = raw.strip()\n",
    "        if not target or target.isdigit():\n",
    "            print(Fore.RED + f\"Skipping invalid target: {target}\")\n",
    "            continue\n",
    "\n",
    "        scanner = run_scan(target)\n",
    "        if not scanner or not scanner.all_hosts():\n",
    "            print(Fore.RED + f\"No results for {target}. Skipping.\\n\")\n",
    "            continue\n",
    "\n",
    "        host_key = scanner.all_hosts()[0]\n",
    "\n",
    "        print(Fore.MAGENTA + f\"\\nChoose output format for {target}:\\n1. Save as text\\n2. Save as JSON\")\n",
    "        choice = input(\"Enter choice: \").strip()\n",
    "\n",
    "        if choice == \"1\":\n",
    "            save_as_text(scanner, host_key, target)\n",
    "            log_scan(target, \"text\")\n",
    "        elif choice == \"2\":\n",
    "            save_as_json(scanner, host_key, target)\n",
    "            log_scan(target, \"json\")\n",
    "        else:\n",
    "            print(Fore.RED + \"Invalid choice. Skipping.\\n\")\n",
    "\n",
    "menu()\n"
   ]
  }
 ],
 "metadata": {
  "kernelspec": {
   "display_name": "base",
   "language": "python",
   "name": "python3"
  },
  "language_info": {
   "codemirror_mode": {
    "name": "ipython",
    "version": 3
   },
   "file_extension": ".py",
   "mimetype": "text/x-python",
   "name": "python",
   "nbconvert_exporter": "python",
   "pygments_lexer": "ipython3",
   "version": "3.12.7"
  }
 },
 "nbformat": 4,
 "nbformat_minor": 2
}
